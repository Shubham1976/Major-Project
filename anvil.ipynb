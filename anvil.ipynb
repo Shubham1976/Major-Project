{
  "nbformat": 4,
  "nbformat_minor": 0,
  "metadata": {
    "colab": {
      "name": "anvil",
      "provenance": [],
      "collapsed_sections": [],
      "include_colab_link": true
    },
    "kernelspec": {
      "name": "python3",
      "display_name": "Python 3"
    },
    "language_info": {
      "name": "python"
    }
  },
  "cells": [
    {
      "cell_type": "markdown",
      "metadata": {
        "id": "view-in-github",
        "colab_type": "text"
      },
      "source": [
        "<a href=\"https://colab.research.google.com/github/Shubham1976/Major-Project/blob/main/anvil.ipynb\" target=\"_parent\"><img src=\"https://colab.research.google.com/assets/colab-badge.svg\" alt=\"Open In Colab\"/></a>"
      ]
    },
    {
      "cell_type": "code",
      "metadata": {
        "id": "PGH8PaNqccp3",
        "colab": {
          "base_uri": "https://localhost:8080/"
        },
        "outputId": "6f328916-75c4-424d-d1f3-646096b436a2"
      },
      "source": [
        "pip install anvil-uplink"
      ],
      "execution_count": 2,
      "outputs": [
        {
          "output_type": "stream",
          "text": [
            "Requirement already satisfied: anvil-uplink in /usr/local/lib/python3.7/dist-packages (0.3.36)\n",
            "Requirement already satisfied: future in /usr/local/lib/python3.7/dist-packages (from anvil-uplink) (0.16.0)\n",
            "Requirement already satisfied: ws4py in /usr/local/lib/python3.7/dist-packages (from anvil-uplink) (0.5.1)\n",
            "Requirement already satisfied: six in /usr/local/lib/python3.7/dist-packages (from anvil-uplink) (1.15.0)\n",
            "Requirement already satisfied: argparse in /usr/local/lib/python3.7/dist-packages (from anvil-uplink) (1.4.0)\n"
          ],
          "name": "stdout"
        }
      ]
    },
    {
      "cell_type": "code",
      "metadata": {
        "id": "DHOI-Sebcm4d"
      },
      "source": [
        "import pickle\n",
        "with open('Telecom','rb') as file:\n",
        "    Telecom= pickle.load(file)"
      ],
      "execution_count": 3,
      "outputs": []
    },
    {
      "cell_type": "code",
      "metadata": {
        "id": "Rugx9Kmxcm25",
        "colab": {
          "base_uri": "https://localhost:8080/"
        },
        "outputId": "005c30cf-7a7e-44d6-a53a-d732fec130e6"
      },
      "source": [
        "Telecom.predict([[29,1,0,1,0,1,1,1,1,0,0,1,0,0]])"
      ],
      "execution_count": 4,
      "outputs": [
        {
          "output_type": "execute_result",
          "data": {
            "text/plain": [
              "array([0])"
            ]
          },
          "metadata": {
            "tags": []
          },
          "execution_count": 4
        }
      ]
    },
    {
      "cell_type": "code",
      "metadata": {
        "id": "p13j0CNJcm1i",
        "colab": {
          "base_uri": "https://localhost:8080/"
        },
        "outputId": "4cae78bc-737a-432e-b30c-9f36d77aef8d"
      },
      "source": [
        "import anvil.server\n",
        "\n",
        "anvil.server.connect(\"452DA5QKXR3YPFG3WQEA4OKC-6UAISXLKVLJKPNJB\")"
      ],
      "execution_count": 5,
      "outputs": [
        {
          "output_type": "stream",
          "text": [
            "Connecting to wss://anvil.works/uplink\n",
            "Anvil websocket open\n",
            "Connected to \"Default environment (dev)\" as SERVER\n"
          ],
          "name": "stdout"
        }
      ]
    },
    {
      "cell_type": "code",
      "metadata": {
        "id": "yLhvYuijcmz9"
      },
      "source": [
        "@anvil.server.callable\n",
        "def get_data(a,b,c,d,e,f,g,h,i,j):\n",
        "  \n",
        "  if i==\"DSL\" and j==\"monthly\":\n",
        "    score=Telecom.predict([[int(a),int(b),int(c),int(d),int(e),int(f),int(g),int(h),1,0,0,1,0,0]])\n",
        "\n",
        "  elif i==\"DSL\" and j==\"oneyear\":\n",
        "    score=Telecom.predict([[int(a),int(b),int(c),int(d),int(e),int(f),int(g),int(h),1,0,0,0,1,0]])\n",
        "\n",
        "  elif i==\"DSL\" and j==\"twoyear\":\n",
        "    score=Telecom.predict([[int(a),int(b),int(c),int(d),int(e),int(f),int(g),int(h),1,0,0,0,0,1]])\n",
        "\n",
        "  elif i==\"fiber\" and j==\"monthly\":\n",
        "    score=Telecom.predict([[int(a),int(b),int(c),int(d),int(e),int(f),int(g),int(h),0,1,0,1,0,0]])\n",
        "\n",
        "  elif i==\"fiber\" and j==\"oneyear\":\n",
        "    score=Telecom.predict([[int(a),int(b),int(c),int(d),int(e),int(f),int(g),int(h),0,1,0,0,1,0]])\n",
        "\n",
        "  elif i==\"fiber\" and j==\"twoyear\":\n",
        "    score=Telecom.predict([[int(a),int(b),int(c),int(d),int(e),int(f),int(g),int(h),0,1,0,0,0,1]])\n",
        "\n",
        "  elif i==\"no\" and j==\"monthly\":\n",
        "    score=Telecom.predict([[int(a),int(b),int(c),int(d),int(e),int(f),int(g),int(h),0,0,1,1,0,0]])\n",
        "\n",
        "  elif i==\"no\" and j==\"oneyear\":\n",
        "    score=Telecom.predict([[int(a),int(b),int(c),int(d),int(e),int(f),int(g),int(h),0,0,1,0,1,0]])\n",
        "\n",
        "  elif i==\"no\" and j==\"twoyear\":\n",
        "    score=Telecom.predict([[int(a),int(b),int(c),int(d),int(e),int(f),int(g),int(h),0,0,1,0,0,1]])\n",
        "  \n",
        "\n",
        "  result=score\n",
        "  if result==1:\n",
        "    return ('This customer will leave your Company [1]')\n",
        "  elif result==0:\n",
        "    return (\"This customer will not leave your Company [0]\")\n",
        "\n"
      ],
      "execution_count": 6,
      "outputs": []
    },
    {
      "cell_type": "code",
      "metadata": {
        "id": "sh0JysJOcmxF"
      },
      "source": [
        ""
      ],
      "execution_count": 6,
      "outputs": []
    },
    {
      "cell_type": "code",
      "metadata": {
        "id": "EvRCtGNmcmv0"
      },
      "source": [
        ""
      ],
      "execution_count": 6,
      "outputs": []
    }
  ]
}